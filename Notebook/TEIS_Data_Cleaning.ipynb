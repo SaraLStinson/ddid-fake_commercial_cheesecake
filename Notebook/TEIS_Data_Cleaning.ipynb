{
 "cells": [
  {
   "cell_type": "code",
   "execution_count": null,
   "id": "3bbd1dc8",
   "metadata": {},
   "outputs": [],
   "source": [
    "import pandas as pd\n",
    "import numpy as np\n",
    "import matplotlib.pyplot as plt\n",
    "import seaborn as sns\n",
    "import dateutil.parser as dparser\n",
    "import re\n",
    "from datetime import datetime"
   ]
  },
  {
   "cell_type": "code",
   "execution_count": null,
   "id": "5bf53fe3",
   "metadata": {},
   "outputs": [],
   "source": [
    "%matplotlib inline"
   ]
  },
  {
   "cell_type": "code",
   "execution_count": null,
   "id": "f5cf6b22",
   "metadata": {},
   "outputs": [],
   "source": [
    "#kids = pd.read_excel('../Data/TEIS Exit Data for NSS.xlsx', sheet_name = 'exit')"
   ]
  },
  {
   "cell_type": "code",
   "execution_count": null,
   "id": "1bd78005",
   "metadata": {},
   "outputs": [],
   "source": [
    "exit_notes = pd.read_excel('../Data/TEIS Exit Data for NSS.xlsx', sheet_name = 'Exit Notes')"
   ]
  },
  {
   "cell_type": "code",
   "execution_count": null,
   "id": "7692ed1b",
   "metadata": {},
   "outputs": [],
   "source": [
    "exit_notes"
   ]
  },
  {
   "cell_type": "code",
   "execution_count": null,
   "id": "705beba4",
   "metadata": {},
   "outputs": [],
   "source": [
    "pd.set_option('display.max_colwidth', None)"
   ]
  },
  {
   "cell_type": "code",
   "execution_count": null,
   "id": "efa05800",
   "metadata": {},
   "outputs": [],
   "source": [
    "exit_notes = exit_notes.dropna(subset=['Exit Note'])   ##Drops rows with null values in \"Exit Note\"\n",
    "exit_notes"
   ]
  },
  {
   "cell_type": "code",
   "execution_count": null,
   "id": "d9164832",
   "metadata": {},
   "outputs": [],
   "source": [
    "##Cell below drops specific columns"
   ]
  },
  {
   "cell_type": "code",
   "execution_count": null,
   "id": "776f5b90",
   "metadata": {},
   "outputs": [],
   "source": [
    "ddid_exit = exit_notes.drop(columns = ['POE', 'DOB', 'Latest IFSP Date', 'Notification Date', 'Initial Eligibility Date'])\n",
    "ddid_exit.head(12)"
   ]
  },
  {
   "cell_type": "code",
   "execution_count": null,
   "id": "c74f816d",
   "metadata": {},
   "outputs": [],
   "source": [
    "#ddid_exit['Date'] = pd.to_datetime(ddid_exit['Exit Note'].str.extract(r'(?P<Date>\\d+(?:\\/\\d+){2})', expand=False), errors='coerce')\n",
    "#ddid_exit.head(50)"
   ]
  },
  {
   "cell_type": "code",
   "execution_count": null,
   "id": "61181394",
   "metadata": {},
   "outputs": [],
   "source": [
    "test = ddid_exit.loc[181, 'Exit Note']    ##Locating row 181's Exit Note"
   ]
  },
  {
   "cell_type": "code",
   "execution_count": null,
   "id": "b005ab0a",
   "metadata": {},
   "outputs": [],
   "source": [
    "##cell below finds each instance of 'Reopened: ' and 'Exit Date: ' and extracts those dates. Does NOT put them into a column."
   ]
  },
  {
   "cell_type": "code",
   "execution_count": null,
   "id": "d7a6e491",
   "metadata": {
    "scrolled": true
   },
   "outputs": [],
   "source": [
    "match1 = re.findall(r'(Reopened:.*?\\d{2}/\\d{2}/\\d{4}|Exit Date:.*?\\d{2}/\\d{2}/\\d{4})', test)\n",
    "match1"
   ]
  },
  {
   "cell_type": "code",
   "execution_count": null,
   "id": "ee8bd7ec",
   "metadata": {},
   "outputs": [],
   "source": [
    "##since re.findall did not place output into columns, the cell below uses str.split to do so. Notice that\n",
    "##it is pulling all the text from \"Exit Note\""
   ]
  },
  {
   "cell_type": "code",
   "execution_count": null,
   "id": "2ea049ab",
   "metadata": {
    "scrolled": true
   },
   "outputs": [],
   "source": [
    "ddid_exit[\"Exit Note\"].str.split(\"Reopened:\", expand = True).head(30)"
   ]
  },
  {
   "cell_type": "code",
   "execution_count": null,
   "id": "e3e826d3",
   "metadata": {},
   "outputs": [],
   "source": [
    "##str.extractall pulls the reopened and exit dates but notice that 'reopened' and 'exit date' appear in the columns."
   ]
  },
  {
   "cell_type": "code",
   "execution_count": null,
   "id": "31a64c45",
   "metadata": {
    "scrolled": true
   },
   "outputs": [],
   "source": [
    "ddid_date_test = ddid_exit['Exit Note'].str.extractall(r'(Reopened: \\d+/\\d+/\\d+|Exit Date: \\d+/\\d+/\\d+)').unstack()\n",
    "ddid_date_test.head(50)"
   ]
  },
  {
   "cell_type": "code",
   "execution_count": null,
   "id": "cf881d61",
   "metadata": {},
   "outputs": [],
   "source": [
    "##tried to use str.replace to take them out but had trouble figuring out why this was not working."
   ]
  },
  {
   "cell_type": "code",
   "execution_count": null,
   "id": "d9a5fd93",
   "metadata": {},
   "outputs": [],
   "source": [
    "replace_test = ddid_date_test[(0, 1)].str.replace('Reopened: ',' ')\n",
    "replace_test"
   ]
  },
  {
   "cell_type": "code",
   "execution_count": null,
   "id": "80fcbbee",
   "metadata": {},
   "outputs": [],
   "source": [
    "##found what is called \"look behind\" or \"look ahead\", which is the ?<= that you see if front of 'reopened' and 'exit'.\n",
    "## This took out the 'reopened' and 'exit date' in the columns. Note that these dates are still OBJECTS.\n",
    "##Another thing using \"look behind\" did was create two capturing groups. This is why I have so many columns."
   ]
  },
  {
   "cell_type": "code",
   "execution_count": null,
   "id": "8a7ae420",
   "metadata": {},
   "outputs": [],
   "source": [
    "ddid_date = ddid_exit['Exit Note'].str.extractall(r'(((?<=Reopened: )|(?<=Exit Date: ))\\d{2}/\\d{2}/\\d{4})').reset_index(level = 1)\n",
    "ddid_date.head(50)"
   ]
  },
  {
   "cell_type": "code",
   "execution_count": null,
   "id": "dfaf9cb9",
   "metadata": {},
   "outputs": [],
   "source": [
    "ddid_date.info()  #Capturing group created two levels."
   ]
  },
  {
   "cell_type": "code",
   "execution_count": null,
   "id": "f7b2a182",
   "metadata": {},
   "outputs": [],
   "source": [
    "ddid_date = ddid_date.drop(columns = [1])"
   ]
  },
  {
   "cell_type": "code",
   "execution_count": null,
   "id": "2c9cd6f6",
   "metadata": {},
   "outputs": [],
   "source": [
    "ddid_date.info()"
   ]
  },
  {
   "cell_type": "code",
   "execution_count": null,
   "id": "ac4b31fd",
   "metadata": {},
   "outputs": [],
   "source": [
    "ddid_all = exit_notes.merge(ddid_date, how = 'outer', left_index = True, right_index = True)\n",
    "ddid_all.head(22)"
   ]
  },
  {
   "cell_type": "code",
   "execution_count": null,
   "id": "cd15524c",
   "metadata": {},
   "outputs": [],
   "source": [
    "ddid_all.dtypes"
   ]
  },
  {
   "cell_type": "code",
   "execution_count": null,
   "id": "7e8be263",
   "metadata": {},
   "outputs": [],
   "source": [
    "#ddid_all.iloc[:, 12].apply(pd.to_datetime, errors='coerce')"
   ]
  },
  {
   "cell_type": "code",
   "execution_count": null,
   "id": "45ab6650",
   "metadata": {},
   "outputs": [],
   "source": [
    "ddid_all[0] = ddid_all[0].apply(pd.to_datetime)\n",
    "ddid_all.info()"
   ]
  },
  {
   "cell_type": "code",
   "execution_count": null,
   "id": "6abbaafb",
   "metadata": {},
   "outputs": [],
   "source": [
    "mask = ddid_all[0] >= ddid_all['Initial IFSP Date']  ##this output is in true/false\n",
    "test_mask = ddid_all[mask]  ##this calls the dataframe for everything that is true...pulls all the information\n",
    "test_mask.info()"
   ]
  },
  {
   "cell_type": "code",
   "execution_count": null,
   "id": "515a673b",
   "metadata": {},
   "outputs": [],
   "source": [
    "mask2 = test_mask[0] < test_mask['Exit Date']\n",
    "test_mask2 = test_mask[mask2]\n",
    "test_mask2.info()"
   ]
  },
  {
   "cell_type": "code",
   "execution_count": null,
   "id": "28025bb3",
   "metadata": {},
   "outputs": [],
   "source": [
    "test_mask2  #cannot unstack because of dumpster fire. also because it's not a multilayer index."
   ]
  },
  {
   "cell_type": "code",
   "execution_count": null,
   "id": "96e22f7c",
   "metadata": {},
   "outputs": [],
   "source": [
    "ddid_pivot = test_mask2.reset_index().pivot_table(index = 'Child ID', columns = 'match', values = 0, aggfunc = 'first')\n",
    "ddid_pivot  ##allows me to unstack "
   ]
  },
  {
   "cell_type": "code",
   "execution_count": null,
   "id": "e349c0c2",
   "metadata": {
    "scrolled": true
   },
   "outputs": [],
   "source": [
    "ddid_whole = exit_notes.merge(ddid_pivot, how = 'outer', left_on = 'Child ID', right_index = True)\n",
    "ddid_whole.head(30)"
   ]
  },
  {
   "cell_type": "code",
   "execution_count": null,
   "id": "5ce933ef",
   "metadata": {},
   "outputs": [],
   "source": [
    "ddid_whole = ddid_whole.drop(columns = ['DOB', 'Notification Date', 'Initial Eligibility Date', 'Latest IFSP Date'])\n",
    "ddid_whole"
   ]
  },
  {
   "cell_type": "code",
   "execution_count": null,
   "id": "c92329e6",
   "metadata": {
    "scrolled": true
   },
   "outputs": [],
   "source": [
    "#ddid_whole.head(45)  "
   ]
  },
  {
   "cell_type": "code",
   "execution_count": null,
   "id": "d8c6eaa5",
   "metadata": {
    "scrolled": true
   },
   "outputs": [],
   "source": [
    "#ddid_date_test.head(30)"
   ]
  },
  {
   "cell_type": "code",
   "execution_count": null,
   "id": "e1cde86e",
   "metadata": {},
   "outputs": [],
   "source": [
    "#### next task - rename columns and start on aggregations"
   ]
  },
  {
   "cell_type": "code",
   "execution_count": null,
   "id": "8f7176b6",
   "metadata": {
    "scrolled": true
   },
   "outputs": [],
   "source": [
    "ddid_whole = ddid_whole.rename(columns = {0.0 : 'Reopened_1', 1.0 : 'Exit_1', 2.0 : 'Reopened_2', 3.0 : 'Exit_2', 4.0 : 'Reopened_3', 5.0 : 'Exit_3', 6.0 : 'Reopened_4', 7.0 : 'Exit_4', 8.0 : 'Reopened_5', 9.0 : 'Exit_5', 10.0 : 'Reopened_6', 11.0 : 'Exit_6'})\n",
    "ddid_whole.head(30)"
   ]
  },
  {
   "cell_type": "code",
   "execution_count": null,
   "id": "e7e75668",
   "metadata": {},
   "outputs": [],
   "source": [
    "ddid_whole['days_1'] = ddid_whole['Reopened_1'] - ddid_whole['Exit_1']\n",
    "ddid_whole.head(30)"
   ]
  },
  {
   "cell_type": "code",
   "execution_count": null,
   "id": "084857f8",
   "metadata": {},
   "outputs": [],
   "source": [
    "ddid_whole['days_2'] = ddid_whole['Reopened_2'] - ddid_whole['Exit_2']\n",
    "ddid_whole.head(30)"
   ]
  },
  {
   "cell_type": "code",
   "execution_count": null,
   "id": "bcfd7d74",
   "metadata": {},
   "outputs": [],
   "source": [
    "ddid_whole['days_3'] = ddid_whole['Reopened_3'] - ddid_whole['Exit_3']\n",
    "ddid_whole.head(30)"
   ]
  },
  {
   "cell_type": "code",
   "execution_count": null,
   "id": "40864dcf",
   "metadata": {},
   "outputs": [],
   "source": [
    "ddid_whole['days_4'] = ddid_whole['Reopened_4'] - ddid_whole['Exit_4']\n",
    "ddid_whole.head(30)"
   ]
  },
  {
   "cell_type": "code",
   "execution_count": null,
   "id": "ea5d4960",
   "metadata": {},
   "outputs": [],
   "source": [
    "ddid_whole['days_5'] = ddid_whole['Reopened_5'] - ddid_whole['Exit_5']\n",
    "ddid_whole.head(30)"
   ]
  },
  {
   "cell_type": "code",
   "execution_count": null,
   "id": "1b8fdfdc",
   "metadata": {},
   "outputs": [],
   "source": [
    "ddid_whole['days_6'] = ddid_whole['Reopened_6'] - ddid_whole['Exit_6']\n",
    "ddid_whole.head(30)"
   ]
  },
  {
   "cell_type": "code",
   "execution_count": null,
   "id": "f245bf0e",
   "metadata": {},
   "outputs": [],
   "source": [
    "ddid_whole['total_gap_days'] = ddid_whole.iloc[:, -6:].sum(axis=1)\n",
    "ddid_whole.head(50)"
   ]
  },
  {
   "cell_type": "code",
   "execution_count": null,
   "id": "f78dc78e",
   "metadata": {},
   "outputs": [],
   "source": [
    "ddid_whole['total_gap_days'] = ddid_whole['total_gap_days'].dt.days"
   ]
  },
  {
   "cell_type": "code",
   "execution_count": null,
   "id": "a0337d6a",
   "metadata": {},
   "outputs": [],
   "source": [
    "ddid_whole.info()"
   ]
  },
  {
   "cell_type": "code",
   "execution_count": null,
   "id": "054652e2",
   "metadata": {},
   "outputs": [],
   "source": [
    "ddid_whole['total_correct_days'] = ddid_whole['Days from I-IFSP to Exit'] - ddid_whole['total_gap_days']"
   ]
  },
  {
   "cell_type": "code",
   "execution_count": null,
   "id": "7a370649",
   "metadata": {
    "scrolled": true
   },
   "outputs": [],
   "source": [
    "ddid_whole.head(50)"
   ]
  },
  {
   "cell_type": "code",
   "execution_count": null,
   "id": "34c5c955",
   "metadata": {},
   "outputs": [],
   "source": [
    "ddid_whole.describe()"
   ]
  },
  {
   "cell_type": "code",
   "execution_count": null,
   "id": "d29bf176",
   "metadata": {},
   "outputs": [],
   "source": [
    "ddid_whole.info()"
   ]
  },
  {
   "cell_type": "code",
   "execution_count": null,
   "id": "4cd315c1",
   "metadata": {},
   "outputs": [],
   "source": [
    "#ddid_whole.to_excel('Clean_Exit_Data.xlsx', sheet_name = 'clean_exit_data', index = False)"
   ]
  },
  {
   "cell_type": "code",
   "execution_count": null,
   "id": "27d22fb0",
   "metadata": {},
   "outputs": [],
   "source": [
    "#ddid_whole['total_days'] = ddid_whole['Days from I-IFSP to Exit'] - ddid_whole['total_days'].dt.days"
   ]
  },
  {
   "cell_type": "code",
   "execution_count": null,
   "id": "9546a338",
   "metadata": {},
   "outputs": [],
   "source": [
    "#ddid_whole['acutal_days'] = ddid_whole['Days from I-IFSP to Exit'] - ddid_whole['total_days']"
   ]
  },
  {
   "cell_type": "code",
   "execution_count": null,
   "id": "b323889d",
   "metadata": {},
   "outputs": [],
   "source": [
    "#ddid_whole.head(50)"
   ]
  },
  {
   "cell_type": "markdown",
   "id": "60a36e4b",
   "metadata": {},
   "source": [
    "FOR LOOP EXAMPLE  --- inconsistencies within data using this loop\n",
    "\n",
    "\n",
    "for index, row in ddid_whole.iterrows():\n",
    "    total_days = pd.Timestamp.today() - pd.Timestamp.today()\n",
    "    days1 = row.Reopened_1 - row.Exit_1\n",
    "    if (~pd.isnull(days1))!= -2:\n",
    "        print(pd.isnull(days1))\n",
    "        total_days += days1\n",
    "    days2 = row.Reopened_2 - row.Exit_2\n",
    "    if ~(pd.isnull(days2))!= -2:\n",
    "        total_days += days2\n",
    "    days3 = row.Reopened_3 - row.Exit_3\n",
    "    if ~(pd.isnull(days3))!= -2:\n",
    "        total_days += days3\n",
    "    days4 = row.Reopened_4 - row.Exit_4\n",
    "    if ~(pd.isnull(days4))!= -2:\n",
    "        total_days += days4\n",
    "    days5 = row.Reopened_5 - row.Exit_5\n",
    "    if ~(pd.isnull(days5))!= -2:\n",
    "        total_days += days5\n",
    "    days6 = row.Reopened_6 - row['Exit Date']\n",
    "    if ~(pd.isnull(days6))!= -2:\n",
    "        total_days += days6\n",
    "    ddid_whole.at[index,'total_days'] = total_days"
   ]
  },
  {
   "cell_type": "code",
   "execution_count": null,
   "id": "ecbb1f37",
   "metadata": {},
   "outputs": [],
   "source": [
    "#ddid_whole['Actual_Days'] = ddid_whole['total_days'] - ddid_whole['Days from I-IFSP to Exit']"
   ]
  },
  {
   "cell_type": "code",
   "execution_count": null,
   "id": "a3062111",
   "metadata": {},
   "outputs": [],
   "source": [
    "#ddid_subset = ddid_all.loc[ddid_all['Exit Note'].str.contains(r'(.*Reopened:.*)')]"
   ]
  },
  {
   "cell_type": "code",
   "execution_count": null,
   "id": "1139d0ca",
   "metadata": {},
   "outputs": [],
   "source": [
    "##ddid_date = ddid_date.drop(columns=[(1, 0),(1, 1),(1, 2),(1, 3),(1, 4),(1, 5),(1, 6),(1, 7),(1, 8),(1, 9),(1, 10),(1, 11)])\n",
    "##ddid_date.head()"
   ]
  },
  {
   "cell_type": "code",
   "execution_count": null,
   "id": "1031b8a5",
   "metadata": {
    "scrolled": true
   },
   "outputs": [],
   "source": [
    "#ddid_date = ddid_date.rename(columns = {0: 'Reopened_1', 1: 'Exit_1', 2: 'Reopened_2', 3: 'Exit_2', 4: 'Reopened_3', 5: 'Exit_3', 6: 'Reopened_4', \n",
    "                                        7: 'Exit_4', 8: 'Reopened_5', 9:'Exit_5', 10: 'Reopened_6', 11: 'Exit_6'})\n",
    "#ddid_date.head()"
   ]
  },
  {
   "cell_type": "code",
   "execution_count": null,
   "id": "fa0991d2",
   "metadata": {},
   "outputs": [],
   "source": [
    "#ddid_date.columns = ddid_date.columns.droplevel()  #Took out the the extra \"Reopened_1\" or the first level"
   ]
  },
  {
   "cell_type": "code",
   "execution_count": null,
   "id": "645bc48c",
   "metadata": {},
   "outputs": [],
   "source": [
    "#ddid_date.head(50)"
   ]
  },
  {
   "cell_type": "code",
   "execution_count": null,
   "id": "423fb8a4",
   "metadata": {},
   "outputs": [],
   "source": [
    "#ddid_date.info()"
   ]
  },
  {
   "cell_type": "code",
   "execution_count": null,
   "id": "50eb3908",
   "metadata": {},
   "outputs": [],
   "source": [
    "#ddid_date = ddid_date.iloc[:, 0:12].apply(pd.to_datetime, errors='coerce')\n"
   ]
  },
  {
   "cell_type": "code",
   "execution_count": null,
   "id": "011e1ed2",
   "metadata": {},
   "outputs": [],
   "source": [
    "#(ddid_date['Reopened_1'] - ddid_date['Exit_1']) "
   ]
  },
  {
   "cell_type": "code",
   "execution_count": null,
   "id": "847a96c9",
   "metadata": {
    "scrolled": false
   },
   "outputs": [],
   "source": [
    "#ddid_all = ddid_exit.join(ddid_date, how = 'outer')\n",
    "#ddid_all"
   ]
  },
  {
   "cell_type": "code",
   "execution_count": null,
   "id": "c243a424",
   "metadata": {},
   "outputs": [],
   "source": [
    "#ddid_subset = ddid_all.loc[ddid_all['Exit Note'].str.contains(r'(.*Reopened:.*)')]"
   ]
  }
 ],
 "metadata": {
  "kernelspec": {
   "display_name": "Python 3 (ipykernel)",
   "language": "python",
   "name": "python3"
  },
  "language_info": {
   "codemirror_mode": {
    "name": "ipython",
    "version": 3
   },
   "file_extension": ".py",
   "mimetype": "text/x-python",
   "name": "python",
   "nbconvert_exporter": "python",
   "pygments_lexer": "ipython3",
   "version": "3.9.7"
  }
 },
 "nbformat": 4,
 "nbformat_minor": 5
}
